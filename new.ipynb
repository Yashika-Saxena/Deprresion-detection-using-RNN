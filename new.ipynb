{
 "cells": [
  {
   "cell_type": "markdown",
   "metadata": {},
   "source": [
    "Step 1 Data Preprocessing:"
   ]
  },
  {
   "cell_type": "code",
   "execution_count": 266,
   "metadata": {},
   "outputs": [],
   "source": [
    "import pandas as pd\n",
    "\n",
    "# Load the dataset from a CSV file\n",
    "data = pd.read_csv('trainmodelfeature.csv')\n",
    "# Check the structure of the dataset\n",
    "# print(data.head())\n",
    "\n",
    "# Separate features (X) and labels (y)\n",
    "X = data[['MFCC Mean', 'MFCC VAR', 'F0 mean']]\n",
    "y = data['Depressed']\n",
    "\n",
    "# Check the first few rows of features and labels\n",
    "# print(\"Features (X):\")\n",
    "# print(X.head())\n",
    "\n",
    "# print(\"Labels (y):\")\n",
    "# print(y.head())"
   ]
  },
  {
   "cell_type": "markdown",
   "metadata": {},
   "source": [
    "Step 2 Data Splitting:"
   ]
  },
  {
   "cell_type": "code",
   "execution_count": 267,
   "metadata": {},
   "outputs": [
    {
     "name": "stdout",
     "output_type": "stream",
     "text": [
      "Training set size: 25\n",
      "Validation set size: 8\n",
      "Test set size: 9\n"
     ]
    }
   ],
   "source": [
    "from sklearn.model_selection import train_test_split\n",
    "\n",
    "# Split the dataset into training (70%), validation (15%), and test (15%) sets\n",
    "X_train, X_temp, y_train, y_temp = train_test_split(X, y, test_size=.4, random_state=42)\n",
    "X_val, X_test, y_val, y_test = train_test_split(X_temp, y_temp, test_size=.5, random_state=42)\n",
    "\n",
    "# Check the sizes of the splits\n",
    "print(\"Training set size:\", len(X_train))\n",
    "# print(X_train)\n",
    "print(\"Validation set size:\", len(X_val))\n",
    "# print(X_val)\n",
    "print(\"Test set size:\", len(X_test))\n",
    "# print(X_test)"
   ]
  },
  {
   "cell_type": "markdown",
   "metadata": {},
   "source": [
    "step 3 Feature Scaling"
   ]
  },
  {
   "cell_type": "code",
   "execution_count": 268,
   "metadata": {},
   "outputs": [
    {
     "name": "stdout",
     "output_type": "stream",
     "text": [
      "Scaled Training Data:\n",
      "[[-0.05241798 -0.03978329  0.66430586]\n",
      " [-0.97069874 -0.97036359 -0.54157756]\n",
      " [-1.19996659 -1.21719515 -1.21110021]\n",
      " [ 0.98352651  0.96258016  0.53925594]\n",
      " [ 1.11186427  1.13386696 -2.05508721]]\n"
     ]
    }
   ],
   "source": [
    "from sklearn.preprocessing import StandardScaler\n",
    "\n",
    "# Initialize the StandardScaler\n",
    "scaler = StandardScaler()\n",
    "\n",
    "# Fit the scaler to the training data and transform it\n",
    "X_train_scaled = scaler.fit_transform(X_train)\n",
    "\n",
    "# Transform the validation and test sets using the same scaler\n",
    "X_val_scaled = scaler.transform(X_val)\n",
    "X_test_scaled = scaler.transform(X_test)\n",
    "\n",
    "# Check the scaled data\n",
    "print(\"Scaled Training Data:\")\n",
    "print(X_train_scaled[:5])  # Display the first 5 rows\n",
    "# print(X_test_scaled[:5])\n",
    "# print(X_val_scaled)\n",
    "\n",
    "# Note: You don't need to scale the target labels (y) in a classification problem.\n"
   ]
  },
  {
   "cell_type": "markdown",
   "metadata": {},
   "source": [
    "Step 4 data sequencing"
   ]
  },
  {
   "cell_type": "code",
   "execution_count": 269,
   "metadata": {},
   "outputs": [
    {
     "name": "stdout",
     "output_type": "stream",
     "text": [
      "Shape of Training Sequences: (23, 2, 3)\n",
      "Shape of Validation Sequences: (6, 2, 3)\n",
      "Shape of Test Sequences: (7, 2, 3)\n",
      "Shape of y val Sequences: (6, 3)\n"
     ]
    }
   ],
   "source": [
    "import numpy as np\n",
    "\n",
    "def create_sequences(data, sequence_length):\n",
    "    sequences = []\n",
    "    labels = []\n",
    "\n",
    "    for i in range(len(data) - sequence_length):\n",
    "        sequence = data[i:i+sequence_length]\n",
    "        label = data[i+sequence_length]\n",
    "        sequences.append(sequence)\n",
    "        labels.append(label)\n",
    "\n",
    "    return np.array(sequences), np.array(labels)\n",
    "\n",
    "# Set the sequence length (number of time steps in each sequence)\n",
    "sequence_length = 2\n",
    "\n",
    "# Create sequences for training, validation, and test sets\n",
    "X_train_sequences, y_train_sequences = create_sequences(X_train_scaled, sequence_length)\n",
    "X_val_sequences, y_val_sequences = create_sequences(X_val_scaled, sequence_length)\n",
    "X_test_sequences, y_test_sequences = create_sequences(X_test_scaled, sequence_length)\n",
    "\n",
    "# Check the shape of the created sequences\n",
    "print(\"Shape of Training Sequences:\", X_train_sequences.shape)\n",
    "print(\"Shape of Validation Sequences:\", X_val_sequences.shape)\n",
    "print(\"Shape of Test Sequences:\", X_test_sequences.shape)\n",
    "print(\"Shape of y val Sequences:\", y_val_sequences.shape)\n"
   ]
  },
  {
   "cell_type": "markdown",
   "metadata": {},
   "source": [
    "Step 5 Model Architecture:"
   ]
  },
  {
   "cell_type": "code",
   "execution_count": 270,
   "metadata": {},
   "outputs": [
    {
     "name": "stdout",
     "output_type": "stream",
     "text": [
      "Model: \"sequential_471\"\n",
      "_________________________________________________________________\n",
      " Layer (type)                Output Shape              Param #   \n",
      "=================================================================\n",
      " lstm_182 (LSTM)             (None, 2, 64)             17408     \n",
      "                                                                 \n",
      " lstm_183 (LSTM)             (None, 2, 64)             33024     \n",
      "                                                                 \n",
      " lstm_184 (LSTM)             (None, 2, 64)             33024     \n",
      "                                                                 \n",
      " lstm_185 (LSTM)             (None, 64)                33024     \n",
      "                                                                 \n",
      " dense_1365 (Dense)          (None, 32)                2080      \n",
      "                                                                 \n",
      " dense_1366 (Dense)          (None, 3)                 99        \n",
      "                                                                 \n",
      "=================================================================\n",
      "Total params: 118659 (463.51 KB)\n",
      "Trainable params: 118659 (463.51 KB)\n",
      "Non-trainable params: 0 (0.00 Byte)\n",
      "_________________________________________________________________\n"
     ]
    }
   ],
   "source": [
    "import tensorflow as tf\n",
    "from tensorflow import keras\n",
    "from keras import layers, Sequential,models\n",
    "from keras.layers import LSTM, Dense \n",
    "# from tensorflow.keras.models import Sequential\n",
    "# from tensorflow.keras.layers import SimpleRNN, Dense\n",
    "# Define the RNN model\n",
    "model = Sequential()\n",
    "num_features= 3\n",
    "\n",
    "# Add the first LSTM layer with return_sequences=True to output sequences for the subsequent layers\n",
    "model.add(LSTM(64, return_sequences=True, input_shape=(sequence_length, num_features)))\n",
    "\n",
    "# Add the second LSTM layer\n",
    "model.add(LSTM(64, return_sequences=True))\n",
    "\n",
    "# Add the third LSTM layer\n",
    "model.add(LSTM(64, return_sequences=True))\n",
    "\n",
    "# Add the fourth LSTM layer\n",
    "model.add(LSTM(64))\n",
    "\n",
    "# Add the first fully connected (FC) layer\n",
    "model.add(Dense(32, activation='relu'))\n",
    "\n",
    "# Add the second FC layer with a single output unit for binary classification\n",
    "model.add(Dense(3, activation='softmax')) # For multi-class classification with 3 classes\n",
    "\n",
    "# Compile the model\n",
    "model.compile(optimizer='adam', loss='binary_crossentropy', metrics=['accuracy'])\n",
    "\n",
    "# Print a summary of the model architecture\n",
    "model.summary()\n"
   ]
  },
  {
   "cell_type": "markdown",
   "metadata": {},
   "source": [
    "step 6 Compile the Model:"
   ]
  },
  {
   "cell_type": "code",
   "execution_count": 275,
   "metadata": {},
   "outputs": [
    {
     "ename": "AttributeError",
     "evalue": "'KerasClassifier' object has no attribute 'compile'",
     "output_type": "error",
     "traceback": [
      "\u001b[1;31m---------------------------------------------------------------------------\u001b[0m",
      "\u001b[1;31mAttributeError\u001b[0m                            Traceback (most recent call last)",
      "\u001b[1;32mc:\\Users\\saxen\\Downloads\\repositry\\CD\\new.ipynb Cell 12\u001b[0m line \u001b[0;36m3\n\u001b[0;32m      <a href='vscode-notebook-cell:/c%3A/Users/saxen/Downloads/repositry/CD/new.ipynb#W5sZmlsZQ%3D%3D?line=0'>1</a>\u001b[0m \u001b[39m# Compile the model\u001b[39;00m\n\u001b[1;32m----> <a href='vscode-notebook-cell:/c%3A/Users/saxen/Downloads/repositry/CD/new.ipynb#W5sZmlsZQ%3D%3D?line=2'>3</a>\u001b[0m model\u001b[39m.\u001b[39;49mcompile(optimizer\u001b[39m=\u001b[39m\u001b[39m'\u001b[39m\u001b[39madam\u001b[39m\u001b[39m'\u001b[39m, loss\u001b[39m=\u001b[39m\u001b[39m'\u001b[39m\u001b[39mbinary_crossentropy\u001b[39m\u001b[39m'\u001b[39m, metrics\u001b[39m=\u001b[39m[\u001b[39m'\u001b[39m\u001b[39maccuracy\u001b[39m\u001b[39m'\u001b[39m])\n\u001b[0;32m      <a href='vscode-notebook-cell:/c%3A/Users/saxen/Downloads/repositry/CD/new.ipynb#W5sZmlsZQ%3D%3D?line=3'>4</a>\u001b[0m batch_size \u001b[39m=\u001b[39m \u001b[39m32\u001b[39m\n\u001b[0;32m      <a href='vscode-notebook-cell:/c%3A/Users/saxen/Downloads/repositry/CD/new.ipynb#W5sZmlsZQ%3D%3D?line=4'>5</a>\u001b[0m epochs \u001b[39m=\u001b[39m \u001b[39m10\u001b[39m\n",
      "\u001b[1;31mAttributeError\u001b[0m: 'KerasClassifier' object has no attribute 'compile'"
     ]
    }
   ],
   "source": [
    "# Compile the model\n",
    "\n",
    "model.compile(optimizer='adam', loss='binary_crossentropy', metrics=['accuracy'])\n",
    "batch_size = 32\n",
    "epochs = 10\n",
    "history = model.fit(X_train_sequences, y_train_sequences, batch_size=32, epochs=25, validation_data=(X_val_sequences, y_val_sequences))\n",
    "# model.fit(X_train_sequences, y_train_sequences,epochs=10, validation_data=(X_val_sequences, y_val_sequences))"
   ]
  },
  {
   "cell_type": "markdown",
   "metadata": {},
   "source": [
    "Step 7 Training the Model:"
   ]
  },
  {
   "cell_type": "code",
   "execution_count": 272,
   "metadata": {},
   "outputs": [
    {
     "name": "stdout",
     "output_type": "stream",
     "text": [
      "Test Loss: 0.6429865956306458\n",
      "Test Accuracy: 0.4285714328289032\n",
      "1/1 [==============================] - 2s 2s/step\n",
      "Accuracy: 0.2857142857142857\n",
      "Precision: 0.08163265306122448\n",
      "Recall: 0.2857142857142857\n",
      "F1 Score: 0.126984126984127\n"
     ]
    },
    {
     "name": "stderr",
     "output_type": "stream",
     "text": [
      "c:\\Users\\saxen\\AppData\\Local\\Programs\\Python\\Python310\\lib\\site-packages\\sklearn\\metrics\\_classification.py:1471: UndefinedMetricWarning: Precision is ill-defined and being set to 0.0 in labels with no predicted samples. Use `zero_division` parameter to control this behavior.\n",
      "  _warn_prf(average, modifier, msg_start, len(result))\n"
     ]
    }
   ],
   "source": [
    "# Evaluate the model on the test sequences\n",
    "from sklearn.metrics import accuracy_score, precision_score, recall_score, f1_score, confusion_matrix\n",
    "\n",
    "def decode_label(label):\n",
    "    return np.argmax(label)\n",
    "\n",
    "def encode_label(label):\n",
    "    one_hot_encoded = np.zeros(len(label))\n",
    "    one_hot_encoded[label] = 1\n",
    "    return one_hot_encoded\n",
    "\n",
    "test_loss, test_accuracy = model.evaluate(X_test_sequences, y_test_sequences, verbose=0)\n",
    "\n",
    "# Print the test results\n",
    "print(\"Test Loss:\", test_loss)\n",
    "print(\"Test Accuracy:\", test_accuracy)\n",
    "\n",
    "# Make predictions on the test set\n",
    "y_pred = model.predict(X_test_sequences)\n",
    "\n",
    "# Convert predictions from one-hot encoding to integers\n",
    "y_pred_decoded = np.array([decode_label(label) for label in y_pred])\n",
    "\n",
    "# Convert the ground truth labels from one-hot encoding to integers\n",
    "y_test_sequences_decoded = np.array([decode_label(label) for label in y_test_sequences])\n",
    "\n",
    "threshold = 0.5\n",
    "y_pred_binary = (y_pred_decoded > threshold).astype(int)\n",
    "\n",
    "accuracy = accuracy_score(y_test_sequences_decoded, y_pred_binary)\n",
    "precision = precision_score(y_test_sequences_decoded, y_pred_binary, average='weighted') # Changed the average setting here\n",
    "recall = recall_score(y_test_sequences_decoded, y_pred_binary, average='weighted') # Changed the average setting here\n",
    "f1 = f1_score(y_test_sequences_decoded, y_pred_binary, average='weighted') # Changed the average setting here\n",
    "\n",
    "print(\"Accuracy:\", accuracy)\n",
    "print(\"Precision:\", precision)\n",
    "print(\"Recall:\", recall)\n",
    "print(\"F1 Score:\", f1)"
   ]
  },
  {
   "cell_type": "markdown",
   "metadata": {},
   "source": [
    "Step 8 Evaluate the Model:"
   ]
  },
  {
   "cell_type": "code",
   "execution_count": 273,
   "metadata": {},
   "outputs": [
    {
     "name": "stdout",
     "output_type": "stream",
     "text": [
      "Epoch 1/10\n",
      "1/1 [==============================] - 12s 12s/step - loss: 0.6933 - accuracy: 0.2609 - val_loss: 0.6898 - val_accuracy: 0.1667\n",
      "Epoch 2/10\n",
      "1/1 [==============================] - 0s 86ms/step - loss: 0.6913 - accuracy: 0.2609 - val_loss: 0.6862 - val_accuracy: 0.1667\n",
      "Epoch 3/10\n",
      "1/1 [==============================] - 0s 91ms/step - loss: 0.6892 - accuracy: 0.2609 - val_loss: 0.6823 - val_accuracy: 0.1667\n",
      "Epoch 4/10\n",
      "1/1 [==============================] - 0s 95ms/step - loss: 0.6871 - accuracy: 0.2609 - val_loss: 0.6782 - val_accuracy: 0.1667\n",
      "Epoch 5/10\n",
      "1/1 [==============================] - 0s 96ms/step - loss: 0.6848 - accuracy: 0.2609 - val_loss: 0.6738 - val_accuracy: 0.1667\n",
      "Epoch 6/10\n",
      "1/1 [==============================] - 0s 97ms/step - loss: 0.6823 - accuracy: 0.2609 - val_loss: 0.6692 - val_accuracy: 0.1667\n",
      "Epoch 7/10\n",
      "1/1 [==============================] - 0s 104ms/step - loss: 0.6797 - accuracy: 0.2609 - val_loss: 0.6643 - val_accuracy: 0.1667\n",
      "Epoch 8/10\n",
      "1/1 [==============================] - 0s 89ms/step - loss: 0.6770 - accuracy: 0.2609 - val_loss: 0.6591 - val_accuracy: 0.1667\n",
      "Epoch 9/10\n",
      "1/1 [==============================] - 0s 92ms/step - loss: 0.6741 - accuracy: 0.2609 - val_loss: 0.6535 - val_accuracy: 0.1667\n",
      "Epoch 10/10\n",
      "1/1 [==============================] - 0s 108ms/step - loss: 0.6710 - accuracy: 0.2609 - val_loss: 0.6475 - val_accuracy: 0.1667\n"
     ]
    },
    {
     "name": "stderr",
     "output_type": "stream",
     "text": [
      "c:\\Users\\saxen\\AppData\\Local\\Programs\\Python\\Python310\\lib\\site-packages\\keras\\src\\engine\\training.py:3079: UserWarning: You are saving your model as an HDF5 file via `model.save()`. This file format is considered legacy. We recommend using instead the native Keras format, e.g. `model.save('my_model.keras')`.\n",
      "  saving_api.save_model(\n"
     ]
    },
    {
     "name": "stdout",
     "output_type": "stream",
     "text": [
      "1/1 [==============================] - 0s 65ms/step - loss: 0.6741 - accuracy: 0.2857\n",
      "Test Loss: 0.6740748286247253, Test Accuracy: 0.2857142984867096\n"
     ]
    }
   ],
   "source": [
    "from keras.callbacks import EarlyStopping, ModelCheckpoint\n",
    "\n",
    "# Define the RNN model\n",
    "model = Sequential()\n",
    "model.add(LSTM(64, return_sequences=True, input_shape=(sequence_length, num_features)))\n",
    "model.add(LSTM(64, return_sequences=True))\n",
    "model.add(LSTM(64, return_sequences=True))\n",
    "model.add(LSTM(64))\n",
    "model.add(Dense(32, activation='relu'))\n",
    "model.add(Dense(3, activation='sigmoid'))\n",
    "\n",
    "# Compile the model\n",
    "model.compile(optimizer='adam', loss='binary_crossentropy', metrics=['accuracy'])\n",
    "\n",
    "# Define early stopping to prevent overfitting\n",
    "early_stopping = EarlyStopping(monitor='val_loss', patience=10, restore_best_weights=True)\n",
    "\n",
    "# Define model checkpoint to save the best model during training\n",
    "model_checkpoint = ModelCheckpoint('best_model.h5', save_best_only=True, save_weights_only=True, monitor='val_loss', mode='min')\n",
    "\n",
    "# Train the model\n",
    "history = model.fit(X_train_sequences, y_train_sequences, epochs=10, batch_size=32, validation_data=(X_val_sequences, y_val_sequences), callbacks=[early_stopping, model_checkpoint])\n",
    "\n",
    "# Save the trained model\n",
    "model.save('final_model.h5')\n",
    "\n",
    "# Evaluate the model on the test data\n",
    "test_loss, test_accuracy = model.evaluate(X_test_sequences, y_test_sequences)\n",
    "print(f\"Test Loss: {test_loss}, Test Accuracy: {test_accuracy}\")\n"
   ]
  },
  {
   "cell_type": "markdown",
   "metadata": {},
   "source": [
    "Step 9 Hyperparameter Tuning:\n",
    "\n"
   ]
  },
  {
   "cell_type": "code",
   "execution_count": 274,
   "metadata": {},
   "outputs": [
    {
     "name": "stderr",
     "output_type": "stream",
     "text": [
      "c:\\Users\\saxen\\AppData\\Local\\Programs\\Python\\Python310\\lib\\site-packages\\scikeras\\wrappers.py:915: UserWarning: ``build_fn`` will be renamed to ``model`` in a future release, at which point use of ``build_fn`` will raise an Error instead.\n",
      "  X, y = self._initialize(X, y)\n",
      "c:\\Users\\saxen\\AppData\\Local\\Programs\\Python\\Python310\\lib\\site-packages\\scikeras\\wrappers.py:915: UserWarning: ``build_fn`` will be renamed to ``model`` in a future release, at which point use of ``build_fn`` will raise an Error instead.\n",
      "  X, y = self._initialize(X, y)\n",
      "c:\\Users\\saxen\\AppData\\Local\\Programs\\Python\\Python310\\lib\\site-packages\\scikeras\\wrappers.py:915: UserWarning: ``build_fn`` will be renamed to ``model`` in a future release, at which point use of ``build_fn`` will raise an Error instead.\n",
      "  X, y = self._initialize(X, y)\n",
      "c:\\Users\\saxen\\AppData\\Local\\Programs\\Python\\Python310\\lib\\site-packages\\scikeras\\wrappers.py:915: UserWarning: ``build_fn`` will be renamed to ``model`` in a future release, at which point use of ``build_fn`` will raise an Error instead.\n",
      "  X, y = self._initialize(X, y)\n",
      "c:\\Users\\saxen\\AppData\\Local\\Programs\\Python\\Python310\\lib\\site-packages\\scikeras\\wrappers.py:915: UserWarning: ``build_fn`` will be renamed to ``model`` in a future release, at which point use of ``build_fn`` will raise an Error instead.\n",
      "  X, y = self._initialize(X, y)\n",
      "c:\\Users\\saxen\\AppData\\Local\\Programs\\Python\\Python310\\lib\\site-packages\\scikeras\\wrappers.py:915: UserWarning: ``build_fn`` will be renamed to ``model`` in a future release, at which point use of ``build_fn`` will raise an Error instead.\n",
      "  X, y = self._initialize(X, y)\n",
      "c:\\Users\\saxen\\AppData\\Local\\Programs\\Python\\Python310\\lib\\site-packages\\scikeras\\wrappers.py:915: UserWarning: ``build_fn`` will be renamed to ``model`` in a future release, at which point use of ``build_fn`` will raise an Error instead.\n",
      "  X, y = self._initialize(X, y)\n",
      "c:\\Users\\saxen\\AppData\\Local\\Programs\\Python\\Python310\\lib\\site-packages\\scikeras\\wrappers.py:915: UserWarning: ``build_fn`` will be renamed to ``model`` in a future release, at which point use of ``build_fn`` will raise an Error instead.\n",
      "  X, y = self._initialize(X, y)\n",
      "c:\\Users\\saxen\\AppData\\Local\\Programs\\Python\\Python310\\lib\\site-packages\\scikeras\\wrappers.py:915: UserWarning: ``build_fn`` will be renamed to ``model`` in a future release, at which point use of ``build_fn`` will raise an Error instead.\n",
      "  X, y = self._initialize(X, y)\n",
      "c:\\Users\\saxen\\AppData\\Local\\Programs\\Python\\Python310\\lib\\site-packages\\scikeras\\wrappers.py:915: UserWarning: ``build_fn`` will be renamed to ``model`` in a future release, at which point use of ``build_fn`` will raise an Error instead.\n",
      "  X, y = self._initialize(X, y)\n",
      "c:\\Users\\saxen\\AppData\\Local\\Programs\\Python\\Python310\\lib\\site-packages\\scikeras\\wrappers.py:915: UserWarning: ``build_fn`` will be renamed to ``model`` in a future release, at which point use of ``build_fn`` will raise an Error instead.\n",
      "  X, y = self._initialize(X, y)\n",
      "c:\\Users\\saxen\\AppData\\Local\\Programs\\Python\\Python310\\lib\\site-packages\\scikeras\\wrappers.py:915: UserWarning: ``build_fn`` will be renamed to ``model`` in a future release, at which point use of ``build_fn`` will raise an Error instead.\n",
      "  X, y = self._initialize(X, y)\n",
      "c:\\Users\\saxen\\AppData\\Local\\Programs\\Python\\Python310\\lib\\site-packages\\scikeras\\wrappers.py:915: UserWarning: ``build_fn`` will be renamed to ``model`` in a future release, at which point use of ``build_fn`` will raise an Error instead.\n",
      "  X, y = self._initialize(X, y)\n",
      "c:\\Users\\saxen\\AppData\\Local\\Programs\\Python\\Python310\\lib\\site-packages\\scikeras\\wrappers.py:915: UserWarning: ``build_fn`` will be renamed to ``model`` in a future release, at which point use of ``build_fn`` will raise an Error instead.\n",
      "  X, y = self._initialize(X, y)\n",
      "c:\\Users\\saxen\\AppData\\Local\\Programs\\Python\\Python310\\lib\\site-packages\\scikeras\\wrappers.py:915: UserWarning: ``build_fn`` will be renamed to ``model`` in a future release, at which point use of ``build_fn`` will raise an Error instead.\n",
      "  X, y = self._initialize(X, y)\n",
      "c:\\Users\\saxen\\AppData\\Local\\Programs\\Python\\Python310\\lib\\site-packages\\scikeras\\wrappers.py:915: UserWarning: ``build_fn`` will be renamed to ``model`` in a future release, at which point use of ``build_fn`` will raise an Error instead.\n",
      "  X, y = self._initialize(X, y)\n",
      "c:\\Users\\saxen\\AppData\\Local\\Programs\\Python\\Python310\\lib\\site-packages\\scikeras\\wrappers.py:915: UserWarning: ``build_fn`` will be renamed to ``model`` in a future release, at which point use of ``build_fn`` will raise an Error instead.\n",
      "  X, y = self._initialize(X, y)\n",
      "c:\\Users\\saxen\\AppData\\Local\\Programs\\Python\\Python310\\lib\\site-packages\\scikeras\\wrappers.py:915: UserWarning: ``build_fn`` will be renamed to ``model`` in a future release, at which point use of ``build_fn`` will raise an Error instead.\n",
      "  X, y = self._initialize(X, y)\n",
      "c:\\Users\\saxen\\AppData\\Local\\Programs\\Python\\Python310\\lib\\site-packages\\scikeras\\wrappers.py:915: UserWarning: ``build_fn`` will be renamed to ``model`` in a future release, at which point use of ``build_fn`` will raise an Error instead.\n",
      "  X, y = self._initialize(X, y)\n",
      "c:\\Users\\saxen\\AppData\\Local\\Programs\\Python\\Python310\\lib\\site-packages\\scikeras\\wrappers.py:915: UserWarning: ``build_fn`` will be renamed to ``model`` in a future release, at which point use of ``build_fn`` will raise an Error instead.\n",
      "  X, y = self._initialize(X, y)\n",
      "c:\\Users\\saxen\\AppData\\Local\\Programs\\Python\\Python310\\lib\\site-packages\\scikeras\\wrappers.py:915: UserWarning: ``build_fn`` will be renamed to ``model`` in a future release, at which point use of ``build_fn`` will raise an Error instead.\n",
      "  X, y = self._initialize(X, y)\n",
      "c:\\Users\\saxen\\AppData\\Local\\Programs\\Python\\Python310\\lib\\site-packages\\scikeras\\wrappers.py:915: UserWarning: ``build_fn`` will be renamed to ``model`` in a future release, at which point use of ``build_fn`` will raise an Error instead.\n",
      "  X, y = self._initialize(X, y)\n",
      "c:\\Users\\saxen\\AppData\\Local\\Programs\\Python\\Python310\\lib\\site-packages\\scikeras\\wrappers.py:915: UserWarning: ``build_fn`` will be renamed to ``model`` in a future release, at which point use of ``build_fn`` will raise an Error instead.\n",
      "  X, y = self._initialize(X, y)\n",
      "c:\\Users\\saxen\\AppData\\Local\\Programs\\Python\\Python310\\lib\\site-packages\\scikeras\\wrappers.py:915: UserWarning: ``build_fn`` will be renamed to ``model`` in a future release, at which point use of ``build_fn`` will raise an Error instead.\n",
      "  X, y = self._initialize(X, y)\n",
      "c:\\Users\\saxen\\AppData\\Local\\Programs\\Python\\Python310\\lib\\site-packages\\scikeras\\wrappers.py:915: UserWarning: ``build_fn`` will be renamed to ``model`` in a future release, at which point use of ``build_fn`` will raise an Error instead.\n",
      "  X, y = self._initialize(X, y)\n"
     ]
    },
    {
     "name": "stdout",
     "output_type": "stream",
     "text": [
      "Confusion Matrix:\n",
      "[[84  9]\n",
      " [25 82]]\n",
      "Test Accuracy: 0.83\n",
      "Test Precision: 0.9010989010989011\n",
      "Test Recall: 0.7663551401869159\n",
      "Test F1 Score: 0.8282828282828283\n"
     ]
    }
   ],
   "source": [
    "import numpy as np\n",
    "from sklearn.model_selection import train_test_split, GridSearchCV\n",
    "from sklearn.datasets import make_classification\n",
    "from sklearn.metrics import accuracy_score, confusion_matrix, precision_score\n",
    "from sklearn.preprocessing import StandardScaler\n",
    "from sklearn.pipeline import Pipeline\n",
    "from keras.models import Sequential\n",
    "from keras.layers import Dense\n",
    "from scikeras.wrappers import KerasClassifier\n",
    "\n",
    "# Generate synthetic data for classification\n",
    "X, y = make_classification(n_samples=1000, n_features=20, random_state=42)\n",
    "\n",
    "# Split the data into training and test sets\n",
    "X_train, X_test, y_train, y_test = train_test_split(X, y, test_size=0.2, random_state=42)\n",
    "\n",
    "# Define a function to create the Keras model\n",
    "def create_model(activation='relu', dropout_rate=0.2, optimizer='adam'):\n",
    "    model = Sequential()\n",
    "    model.add(Dense(32, input_dim=X_train.shape[1], activation=activation))\n",
    "    model.add(Dense(16, activation=activation))\n",
    "    model.add(Dense(1, activation='sigmoid'))\n",
    "    model.compile(loss='binary_crossentropy', optimizer=optimizer, metrics=['accuracy'])\n",
    "    return model\n",
    "\n",
    "# Create a KerasClassifier based on the model creation function\n",
    "model = KerasClassifier(build_fn=create_model, verbose=0)\n",
    "\n",
    "# Define hyperparameters and values to search\n",
    "param_grid = {\n",
    "    'model__activation': ['relu', 'tanh'],\n",
    "    'model__dropout_rate': [0.2, 0.4],\n",
    "    'model__optimizer': ['adam', 'sgd']\n",
    "}\n",
    "\n",
    "# Use GridSearchCV for hyperparameter tuning\n",
    "grid_search = GridSearchCV(estimator=model, param_grid=param_grid, cv=3, scoring='accuracy')\n",
    "grid_search.fit(X_train, y_train)\n",
    "# grid_result = grid_search.fit(X_train_sequences, y_train_sequences)\n",
    "\n",
    "\n",
    "# Get the best model and hyperparameters\n",
    "best_model = grid_search.best_estimator_\n",
    "# print(f\"Best Parameters: {grid_search.best_params_}\")\n",
    "\n",
    "# Evaluate the best model on the test set\n",
    "y_pred = best_model.predict(X_test)\n",
    "precision = precision_score(y_test, y_pred)\n",
    "recall = recall_score(y_test, y_pred)\n",
    "f1 = f1_score(y_test, y_pred)\n",
    "test_accuracy = accuracy_score(y_test, y_pred)\n",
    "conf_matrix = confusion_matrix(y_test, y_pred)\n",
    "print(\"Confusion Matrix:\")\n",
    "print(conf_matrix)\n",
    "print(\"Test Accuracy:\", test_accuracy)\n",
    "print(\"Test Precision:\", precision)\n",
    "print(\"Test Recall:\", recall)\n",
    "print(\"Test F1 Score:\", f1)"
   ]
  },
  {
   "cell_type": "markdown",
   "metadata": {},
   "source": [
    "Step 10 Model Optimization:"
   ]
  },
  {
   "cell_type": "markdown",
   "metadata": {},
   "source": [
    "Step 11 Data Augmentation:"
   ]
  },
  {
   "cell_type": "markdown",
   "metadata": {},
   "source": [
    "step 12 Post-processing:"
   ]
  },
  {
   "cell_type": "code",
   "execution_count": null,
   "metadata": {},
   "outputs": [],
   "source": []
  }
 ],
 "metadata": {
  "kernelspec": {
   "display_name": "Python 3",
   "language": "python",
   "name": "python3"
  },
  "language_info": {
   "codemirror_mode": {
    "name": "ipython",
    "version": 3
   },
   "file_extension": ".py",
   "mimetype": "text/x-python",
   "name": "python",
   "nbconvert_exporter": "python",
   "pygments_lexer": "ipython3",
   "version": "3.10.5"
  }
 },
 "nbformat": 4,
 "nbformat_minor": 2
}
